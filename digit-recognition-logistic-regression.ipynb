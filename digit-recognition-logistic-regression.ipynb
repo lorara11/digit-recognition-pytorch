{
 "cells": [
  {
   "cell_type": "markdown",
   "metadata": {},
   "source": [
    "In this notebook, I'll build a neural network with PyTorch to classify handwritten digits. I'll use the MNIST dataset, which consists of 70000 grayscale images of handwritten digits, like the ones showed bellow.\n",
    "\n",
    "![mnist](Figures/MnistExamples.png)"
   ]
  },
  {
   "cell_type": "code",
   "execution_count": 1,
   "metadata": {},
   "outputs": [],
   "source": [
    "%matplotlib inline\n",
    "\n",
    "import numpy as np\n",
    "import matplotlib.pyplot as plt\n",
    "import torch\n",
    "from tqdm.notebook import tqdm"
   ]
  },
  {
   "cell_type": "markdown",
   "metadata": {},
   "source": [
    "First, I download the train and test sets of MNIST."
   ]
  },
  {
   "cell_type": "code",
   "execution_count": 4,
   "metadata": {},
   "outputs": [
    {
     "name": "stdout",
     "output_type": "stream",
     "text": [
      "Downloading http://yann.lecun.com/exdb/mnist/train-images-idx3-ubyte.gz\n",
      "Failed to download (trying next):\n",
      "HTTP Error 503: Service Unavailable\n",
      "\n",
      "Downloading https://ossci-datasets.s3.amazonaws.com/mnist/train-images-idx3-ubyte.gz\n",
      "Downloading https://ossci-datasets.s3.amazonaws.com/mnist/train-images-idx3-ubyte.gz to ./datasets/MNIST/raw/train-images-idx3-ubyte.gz\n"
     ]
    },
    {
     "data": {
      "application/vnd.jupyter.widget-view+json": {
       "model_id": "ae4817ed4e1d4a5ab7101a1ad23e0f6f",
       "version_major": 2,
       "version_minor": 0
      },
      "text/plain": [
       "  0%|          | 0/9912422 [00:00<?, ?it/s]"
      ]
     },
     "metadata": {},
     "output_type": "display_data"
    },
    {
     "name": "stdout",
     "output_type": "stream",
     "text": [
      "Extracting ./datasets/MNIST/raw/train-images-idx3-ubyte.gz to ./datasets/MNIST/raw\n",
      "\n",
      "Downloading http://yann.lecun.com/exdb/mnist/train-labels-idx1-ubyte.gz\n",
      "Failed to download (trying next):\n",
      "HTTP Error 503: Service Unavailable\n",
      "\n",
      "Downloading https://ossci-datasets.s3.amazonaws.com/mnist/train-labels-idx1-ubyte.gz\n",
      "Downloading https://ossci-datasets.s3.amazonaws.com/mnist/train-labels-idx1-ubyte.gz to ./datasets/MNIST/raw/train-labels-idx1-ubyte.gz\n"
     ]
    },
    {
     "data": {
      "application/vnd.jupyter.widget-view+json": {
       "model_id": "b6649a239d0e4cdeb08207d9a1cc8767",
       "version_major": 2,
       "version_minor": 0
      },
      "text/plain": [
       "  0%|          | 0/28881 [00:00<?, ?it/s]"
      ]
     },
     "metadata": {},
     "output_type": "display_data"
    },
    {
     "name": "stdout",
     "output_type": "stream",
     "text": [
      "Extracting ./datasets/MNIST/raw/train-labels-idx1-ubyte.gz to ./datasets/MNIST/raw\n",
      "\n",
      "Downloading http://yann.lecun.com/exdb/mnist/t10k-images-idx3-ubyte.gz\n",
      "Failed to download (trying next):\n",
      "HTTP Error 503: Service Unavailable\n",
      "\n",
      "Downloading https://ossci-datasets.s3.amazonaws.com/mnist/t10k-images-idx3-ubyte.gz\n",
      "Downloading https://ossci-datasets.s3.amazonaws.com/mnist/t10k-images-idx3-ubyte.gz to ./datasets/MNIST/raw/t10k-images-idx3-ubyte.gz\n"
     ]
    },
    {
     "data": {
      "application/vnd.jupyter.widget-view+json": {
       "model_id": "c9ce81fcd9144055b5b4ec2590a28213",
       "version_major": 2,
       "version_minor": 0
      },
      "text/plain": [
       "  0%|          | 0/1648877 [00:00<?, ?it/s]"
      ]
     },
     "metadata": {},
     "output_type": "display_data"
    },
    {
     "name": "stdout",
     "output_type": "stream",
     "text": [
      "Extracting ./datasets/MNIST/raw/t10k-images-idx3-ubyte.gz to ./datasets/MNIST/raw\n",
      "\n",
      "Downloading http://yann.lecun.com/exdb/mnist/t10k-labels-idx1-ubyte.gz\n",
      "Failed to download (trying next):\n",
      "HTTP Error 503: Service Unavailable\n",
      "\n",
      "Downloading https://ossci-datasets.s3.amazonaws.com/mnist/t10k-labels-idx1-ubyte.gz\n",
      "Downloading https://ossci-datasets.s3.amazonaws.com/mnist/t10k-labels-idx1-ubyte.gz to ./datasets/MNIST/raw/t10k-labels-idx1-ubyte.gz\n"
     ]
    },
    {
     "data": {
      "application/vnd.jupyter.widget-view+json": {
       "model_id": "202d6cd9428342f6b97c848d45013c1a",
       "version_major": 2,
       "version_minor": 0
      },
      "text/plain": [
       "  0%|          | 0/4542 [00:00<?, ?it/s]"
      ]
     },
     "metadata": {},
     "output_type": "display_data"
    },
    {
     "name": "stdout",
     "output_type": "stream",
     "text": [
      "Extracting ./datasets/MNIST/raw/t10k-labels-idx1-ubyte.gz to ./datasets/MNIST/raw\n",
      "\n",
      "Processing...\n",
      "Done!\n"
     ]
    }
   ],
   "source": [
    "from torchvision import datasets, transforms\n",
    "\n",
    "train_set = datasets.MNIST(root='./datasets', train=True, transform=transforms.ToTensor(), download=True)\n",
    "test_set = datasets.MNIST(root='./datasets', train=False, transform=transforms.ToTensor(), download=True)"
   ]
  },
  {
   "cell_type": "code",
   "execution_count": 5,
   "metadata": {},
   "outputs": [
    {
     "name": "stdout",
     "output_type": "stream",
     "text": [
      "Number of training examples: 60000\n",
      "Number of test examples: 10000\n"
     ]
    }
   ],
   "source": [
    "print(\"Number of training examples: %d\" % (len(train_set)))\n",
    "print(\"Number of test examples: %d\" % (len(test_set)))"
   ]
  },
  {
   "cell_type": "markdown",
   "metadata": {},
   "source": [
    "I'll look at the first image from the train set and their label in order to understand the data."
   ]
  },
  {
   "cell_type": "code",
   "execution_count": 32,
   "metadata": {},
   "outputs": [
    {
     "name": "stdout",
     "output_type": "stream",
     "text": [
      "Image shape: torch.Size([1, 28, 28])\n",
      "Label: 5\n"
     ]
    },
    {
     "data": {
      "image/png": "[encoded data removed]",
      "text/plain": [
       "<Figure size 432x288 with 1 Axes>"
      ]
     },
     "metadata": {
      "needs_background": "light"
     },
     "output_type": "display_data"
    }
   ],
   "source": [
    "image, label = train_set[0]\n",
    "\n",
    "print(\"Image shape: {}\".format(image.shape))\n",
    "image = image.reshape((28,28))\n",
    "plt.imshow(image, cmap='gray')\n",
    "\n",
    "print(\"Label: {}\".format(label))"
   ]
  },
  {
   "cell_type": "code",
   "execution_count": 14,
   "metadata": {},
   "outputs": [],
   "source": [
    "train_loader = torch.utils.data.DataLoader(train_set, batch_size = 100, shuffle=True)\n",
    "test_loader = torch.utils.data.DataLoader(test_set, batch_size=100, shuffle = False)"
   ]
  },
  {
   "cell_type": "code",
   "execution_count": 18,
   "metadata": {},
   "outputs": [
    {
     "name": "stdout",
     "output_type": "stream",
     "text": [
      "Shape of the minibatch of images: torch.Size([100, 1, 28, 28])\n",
      "Shape of the minibatch of labels: torch.Size([100])\n"
     ]
    }
   ],
   "source": [
    "images, labels = list(train_loader)[0]\n",
    "\n",
    "print(\"Shape of the minibatch of images: {}\".format(images.shape))\n",
    "print(\"Shape of the minibatch of labels: {}\".format(labels.shape))"
   ]
  },
  {
   "cell_type": "markdown",
   "metadata": {},
   "source": [
    "## Logistic Regression Model"
   ]
  },
  {
   "cell_type": "markdown",
   "metadata": {},
   "source": [
    "Convert minibatch of inputs images (tensors) into a minibatch of row vectors (of pixel values)."
   ]
  },
  {
   "cell_type": "code",
   "execution_count": 22,
   "metadata": {
    "scrolled": true
   },
   "outputs": [
    {
     "name": "stdout",
     "output_type": "stream",
     "text": [
      "Shape of input x: torch.Size([100, 784])\n"
     ]
    }
   ],
   "source": [
    "x = images.view(100,28*28)\n",
    "print(\"Shape of input x: {}\".format(x.shape))"
   ]
  },
  {
   "cell_type": "markdown",
   "metadata": {},
   "source": [
    "Given an input image, we'd like to get the predicted propability of the image being each of the digits from 0 to 9. Let $x_i$ be the input row vector associated with the $i$-th image, $w_{i,j}$ the weight vector associated with class $j$ (of digit $j$, so $0 \\leq j \\leq 9$) and image $i$, and $b_i$ the bias associated with image $i$. Then, for the $i$-th image, the probabilities of the image representing the digits 0 to 9 are:\n",
    "\n",
    "\\begin{align*}\n",
    "y_0 =& \\sum_i x_i w_{i,0} + b_0 \\\\\n",
    "y_1 =& \\sum_i x_i w_{i,1} + b_1 \\\\\n",
    "y_2 =& \\sum_i x_i w_{i,2} + b_2 \\\\\n",
    "y_3 =& \\sum_i x_i w_{i,3} + b_3 \\\\\n",
    "y_4 =& \\sum_i x_i w_{i,4} + b_4 \\\\\n",
    "y_5 =& \\sum_i x_i w_{i,5} + b_5 \\\\\n",
    "y_6 =& \\sum_i x_i w_{i,6} + b_6 \\\\\n",
    "y_7 =& \\sum_i x_i w_{i,7} + b_7 \\\\\n",
    "y_8 =& \\sum_i x_i w_{i,8} + b_8 \\\\\n",
    "y_9 =& \\sum_i x_i w_{i,9} + b_9\n",
    "\\end{align*}"
   ]
  },
  {
   "cell_type": "markdown",
   "metadata": {},
   "source": [
    "This can be expressed in matrix form as:\n",
    "\n",
    "\\begin{align}\n",
    "y = xW + b,\n",
    "\\end{align}\n",
    "\n",
    "where $y$ is $10$-component vector (one component for each digit class), $x$ is the row vector associated with the image (in our case, it has 784 components), $W$ is a $784 \\times 10$ matrix of weights, and b is the $10$-component vector of the bias values."
   ]
  },
  {
   "cell_type": "markdown",
   "metadata": {},
   "source": [
    "Since we have defined a minibatch of 100 inputs $x$ to process them all at once, we stack each input $x$ into a matrix $X$, obtaining\n",
    "\n",
    "\\begin{align}\n",
    "Y = X W + b \n",
    "\\end{align}\n",
    "\n",
    "where $Y$ has dimensions $100 \\times 10$ (100 images, 10 classes), X has dimensions $100 \\times 784$, $W$ has dimensions $784 \\times 10$ and $b$ is a vector of $10$ components."
   ]
  },
  {
   "cell_type": "markdown",
   "metadata": {},
   "source": [
    "The parameters of the model (that will have to be \"learned\") are $W$ and $b$."
   ]
  },
  {
   "cell_type": "code",
   "execution_count": 23,
   "metadata": {},
   "outputs": [],
   "source": [
    "# Initialize W randomly.\n",
    "W = torch.randn(784,10)/np.sqrt(784)\n",
    "W.requires_grad_()\n",
    "\n",
    "# Initizalize b as a vector of 0s.\n",
    "b = torch.zeros(10, requires_grad=True)"
   ]
  },
  {
   "cell_type": "markdown",
   "metadata": {},
   "source": [
    "We compute $y$ as described above, with the random values for $W$, and 0s for $b$."
   ]
  },
  {
   "cell_type": "code",
   "execution_count": 24,
   "metadata": {},
   "outputs": [],
   "source": [
    "# Linear transform\n",
    "y = torch.matmul(x,W) + b"
   ]
  },
  {
   "cell_type": "code",
   "execution_count": 28,
   "metadata": {},
   "outputs": [
    {
     "name": "stdout",
     "output_type": "stream",
     "text": [
      "The resulting y's for the first image are: \n",
      " tensor([ 0.3035,  0.4193,  0.0178, -0.1323,  0.1265,  0.0604, -0.0826,  0.1776,\n",
      "         0.1725,  0.0497], grad_fn=<SliceBackward>)\n"
     ]
    }
   ],
   "source": [
    "print(\"The resulting y's for the first image are: \\n\", y[0,:])"
   ]
  },
  {
   "cell_type": "markdown",
   "metadata": {},
   "source": [
    "We normalize the values $y_i$ to be positive and be between 0 and 1, and that sum to 1. We do this with a softmax:\n",
    "\n",
    "\\begin{align}\n",
    "p(y_i) = \\text{softmax}(y_i) = \\dfrac{\\text{exp}(y_i)}{\\sum_j{\\text{exp}(y_j)}}\n",
    "\\end{align}\n",
    "\n",
    "We then can interpret the obtained values as probabilities."
   ]
  },
  {
   "cell_type": "code",
   "execution_count": 31,
   "metadata": {},
   "outputs": [
    {
     "name": "stdout",
     "output_type": "stream",
     "text": [
      "The probabilities p(y) for the first image are:\n",
      " tensor([0.1197, 0.1343, 0.0899, 0.0774, 0.1002, 0.0938, 0.0813, 0.1055, 0.1050,\n",
      "        0.0928], grad_fn=<SelectBackward>)\n"
     ]
    }
   ],
   "source": [
    "prob_y = torch.exp(y) / torch.sum(torch.exp(y), dim=1, keepdim=True)\n",
    "\n",
    "print(\"The probabilities p(y) for the first image are:\\n\", prob_y[0])"
   ]
  },
  {
   "cell_type": "markdown",
   "metadata": {},
   "source": [
    "We now will adjust the parameters of the model, $W$ and $b$, while measuring the model's performance using the cross-entropy loss function:\n",
    "\n",
    "\\begin{align}\n",
    "H_{y'}(y)=-\\sum_i y'_i \\text{log}(y_i)\n",
    "\\end{align}\n",
    "\n",
    "where $y'_i$ is the true label, that we want our model to predict, and $N$ is the number of images we have."
   ]
  },
  {
   "cell_type": "code",
   "execution_count": 34,
   "metadata": {},
   "outputs": [
    {
     "name": "stdout",
     "output_type": "stream",
     "text": [
      "Cross entropy: 2.3816354274749756\n"
     ]
    }
   ],
   "source": [
    "import torch.nn.functional as F\n",
    "\n",
    "cross_entropy = F.cross_entropy(y,labels)\n",
    "print(\"Cross entropy: {}\".format(cross_entropy))"
   ]
  },
  {
   "cell_type": "markdown",
   "metadata": {},
   "source": [
    "We adjust the parameters in a way that minimizes the loss, computed with the function above. We'll do this using the Stochastic Gradient Descent:\n",
    "\n",
    "\\begin{align}\n",
    "\\theta_{t+1} = \\theta_t - \\alpha \\nabla_\\theta \\mathcal{L}\n",
    "\\end{align}\n",
    "\n",
    "where $\\theta$ is a parameter, $\\alpha$ is a learning rate (step size), and $\\nabla_\\theta \\mathcal{L}$ is the gradient of our loss with respect to $\\theta$."
   ]
  },
  {
   "cell_type": "code",
   "execution_count": 36,
   "metadata": {},
   "outputs": [],
   "source": [
    "optimizer = torch.optim.SGD([W,b], lr=0.1)"
   ]
  },
  {
   "cell_type": "code",
   "execution_count": 37,
   "metadata": {},
   "outputs": [],
   "source": [
    "# Compute the gradients of the loss function for W and b\n",
    "cross_entropy.backward()"
   ]
  },
  {
   "cell_type": "code",
   "execution_count": 38,
   "metadata": {},
   "outputs": [
    {
     "data": {
      "text/plain": [
       "tensor([-0.0014,  0.0439, -0.0520, -0.0483,  0.0202, -0.0007,  0.0281,  0.0193,\n",
       "        -0.0264,  0.0172])"
      ]
     },
     "execution_count": 38,
     "metadata": {},
     "output_type": "execute_result"
    }
   ],
   "source": [
    "b.grad"
   ]
  },
  {
   "cell_type": "code",
   "execution_count": 39,
   "metadata": {},
   "outputs": [],
   "source": [
    "optimizer.step()"
   ]
  },
  {
   "cell_type": "code",
   "execution_count": 41,
   "metadata": {},
   "outputs": [
    {
     "data": {
      "text/plain": [
       "tensor([ 1.3548e-04, -4.3949e-03,  5.1993e-03,  4.8287e-03, -2.0219e-03,\n",
       "         6.9344e-05, -2.8095e-03, -1.9273e-03,  2.6397e-03, -1.7191e-03],\n",
       "       requires_grad=True)"
      ]
     },
     "execution_count": 41,
     "metadata": {},
     "output_type": "execute_result"
    }
   ],
   "source": [
    "# b has been updated by -0.1*b.grad\n",
    "b"
   ]
  },
  {
   "cell_type": "markdown",
   "metadata": {},
   "source": [
    "We've trained the model on a minibatch. We now repeat the process for the rest of the training data."
   ]
  },
  {
   "cell_type": "markdown",
   "metadata": {},
   "source": [
    "### Training"
   ]
  },
  {
   "cell_type": "code",
   "execution_count": 42,
   "metadata": {},
   "outputs": [
    {
     "data": {
      "application/vnd.jupyter.widget-view+json": {
       "model_id": "7d9b49f638c9412f85d4afb6a63eb778",
       "version_major": 2,
       "version_minor": 0
      },
      "text/plain": [
       "  0%|          | 0/600 [00:00<?, ?it/s]"
      ]
     },
     "metadata": {},
     "output_type": "display_data"
    }
   ],
   "source": [
    "# Interate through the minibatchs of the train set\n",
    "for images, labels in tqdm(train_loader):\n",
    "    # Zero out the gradients (clear gradient buffers)\n",
    "    optimizer.zero_grad()\n",
    "    \n",
    "    # Forward pass\n",
    "    x = images.view(100,28*28)\n",
    "    y = torch.matmul(x,W) + b\n",
    "    cross_entropy = F.cross_entropy(y,labels)\n",
    "    # Backward pass\n",
    "    cross_entropy.backward()\n",
    "    optimizer.step()\n"
   ]
  },
  {
   "cell_type": "markdown",
   "metadata": {},
   "source": [
    "### Testing"
   ]
  },
  {
   "cell_type": "code",
   "execution_count": 45,
   "metadata": {},
   "outputs": [
    {
     "data": {
      "application/vnd.jupyter.widget-view+json": {
       "model_id": "7fdc8f81c4774a06916f72e6d728c5e1",
       "version_major": 2,
       "version_minor": 0
      },
      "text/plain": [
       "  0%|          | 0/100 [00:00<?, ?it/s]"
      ]
     },
     "metadata": {},
     "output_type": "display_data"
    },
    {
     "name": "stdout",
     "output_type": "stream",
     "text": [
      "Test accuracy: 0.9027000069618225\n"
     ]
    }
   ],
   "source": [
    "correct = 0\n",
    "total = len(test_set)\n",
    "\n",
    "# Turn off autograd engine to speed up evaluation\n",
    "with torch.no_grad():\n",
    "    # Iterate through test set minibatchs\n",
    "    for images, labels in tqdm(test_loader):\n",
    "        # Forward pass\n",
    "        x = images.view(100,28*28)\n",
    "        y = torch.matmul(x,W) + b\n",
    "        \n",
    "        predictions = torch.argmax(y,dim=1)\n",
    "        correct += torch.sum((predictions == labels).float())\n",
    "        \n",
    "print('Test accuracy: {}'.format(correct/total))"
   ]
  },
  {
   "cell_type": "code",
   "execution_count": 46,
   "metadata": {},
   "outputs": [
    {
     "data": {
      "image/png": "[encoded data removed]",
      "text/plain": [
       "<Figure size 1440x144 with 10 Axes>"
      ]
     },
     "metadata": {
      "needs_background": "light"
     },
     "output_type": "display_data"
    }
   ],
   "source": [
    "# Plot weights, to visualize what the model has learnt.\n",
    "fig, ax = plt.subplots(1,10,figsize=(20,2))\n",
    "for digit in range(10):\n",
    "    ax[digit].imshow(W[:,digit].detach().view(28,28),cmap='gray')"
   ]
  }
 ],
 "metadata": {
  "kernelspec": {
   "display_name": "ml38_kernel",
   "language": "python",
   "name": "ml38_kernel"
  },
  "language_info": {
   "codemirror_mode": {
    "name": "ipython",
    "version": 3
   },
   "file_extension": ".py",
   "mimetype": "text/x-python",
   "name": "python",
   "nbconvert_exporter": "python",
   "pygments_lexer": "ipython3",
   "version": "3.8.8"
  }
 },
 "nbformat": 4,
 "nbformat_minor": 4
}
